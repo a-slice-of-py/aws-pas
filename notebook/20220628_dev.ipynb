{
 "cells": [
  {
   "cell_type": "code",
   "execution_count": null,
   "metadata": {},
   "outputs": [],
   "source": [
    "%load_ext autoreload\n",
    "%autoreload 2"
   ]
  },
  {
   "cell_type": "markdown",
   "metadata": {},
   "source": [
    "# Usage"
   ]
  },
  {
   "cell_type": "markdown",
   "metadata": {},
   "source": [
    "## Init PAS"
   ]
  },
  {
   "cell_type": "code",
   "execution_count": null,
   "metadata": {},
   "outputs": [],
   "source": [
    "import boto3\n",
    "from aws_pas.assistant import PolicyAssistanceSuite\n",
    "\n",
    "boto3_session = ...\n",
    "\n",
    "pas = PolicyAssistanceSuite(boto3_session)"
   ]
  },
  {
   "cell_type": "markdown",
   "metadata": {},
   "source": [
    "## Check existing role permissions"
   ]
  },
  {
   "cell_type": "markdown",
   "metadata": {},
   "source": [
    "### with policy document ouput suggestion"
   ]
  },
  {
   "cell_type": "code",
   "execution_count": null,
   "metadata": {},
   "outputs": [],
   "source": [
    "response = pas.simulate_principal_policy(\n",
    "    policy_source_arn=...,\n",
    "    action_names=[\n",
    "        pas.services.s3.ListBuckets,\n",
    "        pas.services.xray.GetGroup\n",
    "    ]\n",
    ")"
   ]
  },
  {
   "cell_type": "code",
   "execution_count": null,
   "metadata": {},
   "outputs": [],
   "source": [
    "response['suggested_policy']"
   ]
  },
  {
   "cell_type": "markdown",
   "metadata": {},
   "source": [
    "### with CDK policy ouput suggestion"
   ]
  },
  {
   "cell_type": "code",
   "execution_count": null,
   "metadata": {},
   "outputs": [],
   "source": [
    "response = pas.simulate_principal_policy(\n",
    "    policy_source_arn=...,\n",
    "    action_names=[\n",
    "        pas.services.s3.ListBuckets,\n",
    "        pas.services.xray.GetGroup\n",
    "    ],\n",
    "    output_format='cdk'\n",
    ")"
   ]
  },
  {
   "cell_type": "markdown",
   "metadata": {},
   "source": [
    "## Check existing policy permission"
   ]
  },
  {
   "cell_type": "code",
   "execution_count": null,
   "metadata": {},
   "outputs": [],
   "source": [
    "policy_input = pas.policies.AmazonSNSFullAccess.Document.to_json()\n",
    "\n",
    "response = pas.simulate_custom_policy(\n",
    "    policy_input_list=[\n",
    "        policy_input\n",
    "    ],\n",
    "    action_names=[\n",
    "        pas.services.s3.ListBuckets,\n",
    "        pas.services.xray.GetGroup\n",
    "    ]\n",
    ")"
   ]
  },
  {
   "cell_type": "code",
   "execution_count": null,
   "metadata": {},
   "outputs": [],
   "source": [
    "response['suggested_policy']"
   ]
  },
  {
   "cell_type": "code",
   "execution_count": null,
   "metadata": {},
   "outputs": [],
   "source": [
    "response2 = pas.simulate_custom_policy(\n",
    "    policy_input_list=[\n",
    "        policy_input,\n",
    "        response['suggested_policy']\n",
    "    ],\n",
    "    action_names=[\n",
    "        pas.services.s3.ListBuckets,\n",
    "        pas.services.xray.GetGroup\n",
    "    ]\n",
    ")"
   ]
  }
 ],
 "metadata": {
  "kernelspec": {
   "display_name": "Python 3.9.12 ('awspas')",
   "language": "python",
   "name": "python3"
  },
  "language_info": {
   "codemirror_mode": {
    "name": "ipython",
    "version": 3
   },
   "file_extension": ".py",
   "mimetype": "text/x-python",
   "name": "python",
   "nbconvert_exporter": "python",
   "pygments_lexer": "ipython3",
   "version": "3.9.12"
  },
  "orig_nbformat": 4,
  "vscode": {
   "interpreter": {
    "hash": "1f494e654c098751e89ca4211113d97254281fe91cd40bf4c959743439abd920"
   }
  }
 },
 "nbformat": 4,
 "nbformat_minor": 2
}
